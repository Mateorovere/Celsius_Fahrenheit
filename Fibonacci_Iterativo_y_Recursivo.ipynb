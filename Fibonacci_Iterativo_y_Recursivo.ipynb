{
  "nbformat": 4,
  "nbformat_minor": 0,
  "metadata": {
    "colab": {
      "provenance": [],
      "authorship_tag": "ABX9TyNGYZHGX0Hbuvkf6yKjtFva",
      "include_colab_link": true
    },
    "kernelspec": {
      "name": "python3",
      "display_name": "Python 3"
    },
    "language_info": {
      "name": "python"
    }
  },
  "cells": [
    {
      "cell_type": "markdown",
      "metadata": {
        "id": "view-in-github",
        "colab_type": "text"
      },
      "source": [
        "<a href=\"https://colab.research.google.com/github/Mateorovere/Celsius_Fahrenheit/blob/main/Fibonacci_Iterativo_y_Recursivo.ipynb\" target=\"_parent\"><img src=\"https://colab.research.google.com/assets/colab-badge.svg\" alt=\"Open In Colab\"/></a>"
      ]
    },
    {
      "cell_type": "code",
      "execution_count": null,
      "metadata": {
        "id": "ulW1WPKSbhpi"
      },
      "outputs": [],
      "source": [
        "#secuencia de fibonacci de manera recursiva vs de manera iterativa\n",
        "def fib_recursivo(n):\n",
        "  \"\"\" Funcion que devuelve el numero de Fibonacci numero n, siempre y cuando sea n <= 0 de manera recursiva\"\"\"\n",
        "  if n == 0 or n == 1:\n",
        "    return n\n",
        "  return fib_recursivo(n-1) + fib_recursivo(n-2)\n",
        "\n",
        "def fib_iterativo(n):\n",
        "  \"\"\" Funcion que devuelve el numero de Fibonacci numero n, siempre y cuando sea n <= 0 de manera iterativa\"\"\"\n",
        "  if n == 0 or n == 1:\n",
        "    return n\n",
        "  ant1 = 1\n",
        "  ant2 = 0\n",
        "  for i in range(2, n+1):\n",
        "    fibn = ant1 + ant2\n",
        "    ant2 = ant1\n",
        "    ant1 = fibn\n",
        "  return fibn\n",
        "#en este ejercicio si agarramos n muy altos de manera recursiva va a ser menos eficiente que en el caso iterativo"
      ]
    },
    {
      "cell_type": "code",
      "source": [],
      "metadata": {
        "id": "wUvN0vZTctQF"
      },
      "execution_count": null,
      "outputs": []
    }
  ]
}